{
 "cells": [
  {
   "cell_type": "code",
   "execution_count": 5,
   "metadata": {},
   "outputs": [
    {
     "name": "stdout",
     "output_type": "stream",
     "text": [
      "q2 = 0.364844864160078\n",
      "u1 =  0.2094534592480234\n",
      "u2 =  0.30945345924802337\n",
      "u3 =  0.4810930815039532\n",
      "SUM = 1.0\n"
     ]
    }
   ],
   "source": [
    "q1=0.635155135839922\n",
    "q2=1-q1\n",
    "print(\"q2 =\" ,q2)\n",
    "\n",
    "u1 = 0.1*q1 + 0.4*q2\n",
    "u2 = 0.2*q1 + 0.5*q2\n",
    "u3 = 0.7*q1 + 0.1*q2\n",
    "\n",
    "print(\"u1 = \",u1)\n",
    "print(\"u2 = \",u2)\n",
    "print(\"u3 = \",u3)\n",
    "\n",
    "SUM = u1 + u2 + u3\n",
    "print(\"SUM =\" , SUM)\n"
   ]
  },
  {
   "cell_type": "code",
   "execution_count": null,
   "metadata": {},
   "outputs": [],
   "source": []
  }
 ],
 "metadata": {
  "kernelspec": {
   "display_name": "Python 3",
   "language": "python",
   "name": "python3"
  },
  "language_info": {
   "codemirror_mode": {
    "name": "ipython",
    "version": 3
   },
   "file_extension": ".py",
   "mimetype": "text/x-python",
   "name": "python",
   "nbconvert_exporter": "python",
   "pygments_lexer": "ipython3",
   "version": "3.6.4"
  }
 },
 "nbformat": 4,
 "nbformat_minor": 1
}
